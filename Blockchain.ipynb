{
  "cells": [
    {
      "cell_type": "markdown",
      "metadata": {
        "id": "view-in-github",
        "colab_type": "text"
      },
      "source": [
        "<a href=\"https://colab.research.google.com/github/Atakan-Topaloglu/Blockchain-Presentation/blob/master/Blockchain.ipynb\" target=\"_parent\"><img src=\"https://colab.research.google.com/assets/colab-badge.svg\" alt=\"Open In Colab\"/></a>"
      ]
    },
    {
      "cell_type": "code",
      "execution_count": null,
      "metadata": {
        "id": "3LuLOXhgN2wW"
      },
      "outputs": [],
      "source": [
        "import hashlib\n",
        "import numpy as np\n",
        "from pprint import pprint   # optional, can be used instead of np"
      ]
    },
    {
      "cell_type": "code",
      "execution_count": 32,
      "metadata": {
        "colab": {
          "base_uri": "https://localhost:8080/"
        },
        "id": "ejmEJgOMORH1",
        "outputId": "192f298b-87a0-4a46-fdca-1ff11e2e0161"
      },
      "outputs": [
        {
          "output_type": "stream",
          "name": "stdout",
          "text": [
            "Hexadecimal representation of the first hash is: \n",
            " a09c2b84ed466a5021e370a4219eec3abdba83c211d01b9208fd5b60fa2c7628\n",
            "\n",
            "Hexadecimal representation of the second hash is: \n",
            " 2f1d32667a803e4d5d9c7afe6732c865f7d4f49d95e766807e8bf9eff95169eb\n"
          ]
        }
      ],
      "source": [
        "msg1 = hashlib.sha256()\n",
        "msg1.update(b\"I seek the Holy Grail\")\n",
        "hex_message_1 = msg1.hexdigest\n",
        "print(f'Hexadecimal representation of the first hash is: \\n {hex_message_1()}\\n')\n",
        "\n",
        "msg2 = hashlib.sha256()\n",
        "msg2.update(b\"I seek the Poly Grail\")\n",
        "hex_message_2 = msg2.hexdigest\n",
        "print(f'Hexadecimal representation of the second hash is: \\n {hex_message_2()}')"
      ]
    },
    {
      "cell_type": "markdown",
      "source": [
        "\n",
        "\n",
        "---\n",
        "\n",
        "\n",
        "Looking at the outputs above, we can see that even if a single character\n",
        "of the input string changes, the hex code of the hash is altered dramatically. This indicates (but does not prove) that **SHA 256** outputs seemingly random values where knowing the hash of a certain input doesn't provide valuable information about closely related strings.\n",
        "\n",
        "\n",
        "---"
      ],
      "metadata": {
        "id": "trh4NJv2dIW4"
      }
    },
    {
      "cell_type": "code",
      "execution_count": null,
      "metadata": {
        "id": "l0zhkMDSlHZE"
      },
      "outputs": [],
      "source": [
        "def pretty_print(string):\n",
        "  row = \"\"\n",
        "  for i in range(2, len(string)):\n",
        "    row += string[i] + \" \"\n",
        "    if (i-1)%16 == 0:\n",
        "      print(row)\n",
        "      row = \"\""
      ]
    },
    {
      "cell_type": "code",
      "execution_count": null,
      "metadata": {
        "colab": {
          "base_uri": "https://localhost:8080/"
        },
        "id": "W5i9q7o0x5ib",
        "outputId": "2d2c386c-4b4f-4f6f-e2eb-ee2025158a0b"
      },
      "outputs": [
        {
          "output_type": "stream",
          "name": "stdout",
          "text": [
            "SHA-256 for the first message:\n",
            "\n",
            "1 0 1 0 0 0 0 0 1 0 0 1 1 1 0 0 \n",
            "0 0 1 0 1 0 1 1 1 0 0 0 0 1 0 0 \n",
            "1 1 1 0 1 1 0 1 0 1 0 0 0 1 1 0 \n",
            "0 1 1 0 1 0 1 0 0 1 0 1 0 0 0 0 \n",
            "0 0 1 0 0 0 0 1 1 1 1 0 0 0 1 1 \n",
            "0 1 1 1 0 0 0 0 1 0 1 0 0 1 0 0 \n",
            "0 0 1 0 0 0 0 1 1 0 0 1 1 1 1 0 \n",
            "1 1 1 0 1 1 0 0 0 0 1 1 1 0 1 0 \n",
            "1 0 1 1 1 1 0 1 1 0 1 1 1 0 1 0 \n",
            "1 0 0 0 0 0 1 1 1 1 0 0 0 0 1 0 \n",
            "0 0 0 1 0 0 0 1 1 1 0 1 0 0 0 0 \n",
            "0 0 0 1 1 0 1 1 1 0 0 1 0 0 1 0 \n",
            "0 0 0 0 1 0 0 0 1 1 1 1 1 1 0 1 \n",
            "0 1 0 1 1 0 1 1 0 1 1 0 0 0 0 0 \n",
            "1 1 1 1 1 0 1 0 0 0 1 0 1 1 0 0 \n",
            "0 1 1 1 0 1 1 0 0 0 1 0 1 0 0 0 \n",
            "\n",
            "\n",
            "SHA-256 for the second message: \n",
            "\n",
            "1 0 1 1 1 1 0 0 0 1 1 1 0 1 0 0 \n",
            "1 1 0 0 1 0 0 1 1 0 0 1 1 0 0 1 \n",
            "1 1 1 0 1 0 1 0 0 0 0 0 0 0 0 0 \n",
            "1 1 1 1 1 0 0 1 0 0 1 1 0 1 0 1 \n",
            "0 1 1 1 0 1 1 0 0 1 1 1 0 0 0 1 \n",
            "1 1 1 0 1 0 1 1 1 1 1 1 1 0 0 1 \n",
            "1 0 0 1 1 1 0 0 1 1 0 0 1 0 1 1 \n",
            "0 0 1 0 0 0 0 1 1 0 0 1 0 1 1 1 \n",
            "1 1 0 1 1 1 1 1 0 1 0 1 0 0 1 1 \n",
            "1 1 0 1 0 0 1 0 0 1 1 1 0 1 1 0 \n",
            "0 1 0 1 0 1 1 1 1 0 0 1 1 1 0 1 \n",
            "1 0 0 1 1 0 1 0 0 0 0 0 0 0 0 1 \n",
            "1 1 1 1 1 0 1 0 0 0 1 0 1 1 1 1 \n",
            "1 1 1 0 0 1 1 1 1 0 1 1 1 1 1 1 \n",
            "1 1 1 0 0 1 0 1 0 1 0 0 0 1 0 1 \n"
          ]
        }
      ],
      "source": [
        "int_msg_1 = int(hex_message_1(), base=16)\n",
        "binary_msg_1 = bin(int_msg_1)\n",
        "\n",
        "\n",
        "print(\"SHA-256 for the first message:\\n\")\n",
        "pretty_print(binary_msg_1)\n",
        "print(\"\\n\")\n",
        "\n",
        "int_msg_2 = int(hex_message_2(), base=16)\n",
        "binary_msg_2 = bin(int_msg_2)\n",
        "\n",
        "print(\"SHA-256 for the second message: \\n\")\n",
        "pretty_print(binary_msg_2)\n"
      ]
    },
    {
      "cell_type": "code",
      "execution_count": null,
      "metadata": {
        "id": "ZJR0NC7GhbHx"
      },
      "outputs": [],
      "source": [
        "def str_to_list(string):\n",
        "  rows = []\n",
        "  row = []\n",
        "  for i in range(2, len(string)):\n",
        "    row.append(int(string[i]))\n",
        "    if (i-1)%16==0:\n",
        "      rows.append(row)\n",
        "      row = []\n",
        "  return rows\n",
        "\n",
        "# to visualize the extent of difference of hashes, let's build an xor_calculator \n",
        "# that outputs x xor y for each element of list_1 and list_2 where x is an element\n",
        "# of list_1 and y is an element of list_2\n",
        "\n",
        "def xor_calc(list_1, list_2):\n",
        "  values = []\n",
        "  for row in range(15):\n",
        "    value = list(map(lambda x, y: x^y, list_1[row], list_2[row]))\n",
        "    values.append(value)\n",
        "    value = []\n",
        "  return values"
      ]
    },
    {
      "cell_type": "code",
      "execution_count": null,
      "metadata": {
        "colab": {
          "base_uri": "https://localhost:8080/"
        },
        "id": "9KdwR5wWc65o",
        "outputId": "8eee756e-f8c8-451c-d78a-58b753a18185"
      },
      "outputs": [
        {
          "output_type": "stream",
          "name": "stdout",
          "text": [
            "Difference between binary representations of hashes is:\n",
            "\n",
            "[[0 0 0 1 1 1 0 0 1 1 1 0 1 0 0 0]\n",
            " [1 1 1 0 0 0 1 0 0 0 0 1 1 1 0 1]\n",
            " [0 0 0 0 0 1 1 1 0 1 0 0 0 1 1 0]\n",
            " [1 0 0 1 0 0 1 1 0 1 1 0 0 1 0 1]\n",
            " [0 1 0 1 0 1 1 1 1 0 0 1 0 0 1 0]\n",
            " [1 0 0 1 1 0 1 1 0 1 0 1 1 1 0 1]\n",
            " [1 0 1 1 1 1 0 1 0 1 0 1 0 1 0 1]\n",
            " [1 1 0 0 1 1 0 1 1 0 1 0 1 1 0 1]\n",
            " [0 1 1 0 0 0 1 0 1 1 1 0 1 0 0 1]\n",
            " [0 1 0 1 0 0 0 1 1 0 1 1 0 1 0 0]\n",
            " [0 1 0 0 0 1 1 0 0 1 0 0 1 1 0 1]\n",
            " [1 0 0 0 0 0 0 1 1 0 0 1 0 0 1 1]\n",
            " [1 1 1 1 0 0 1 0 1 1 0 1 0 0 1 0]\n",
            " [1 0 1 1 1 1 0 0 1 1 0 1 1 1 1 1]\n",
            " [0 0 0 1 1 1 1 1 0 1 1 0 1 0 0 1]]\n"
          ]
        }
      ],
      "source": [
        "msg1_list = str_to_list(binary_msg_1)\n",
        "msg2_list = str_to_list(binary_msg_2)\n",
        "\n",
        "msg_diff_1_2 = xor_calc(msg1_list, msg2_list)\n",
        "np_diff = np.array(msg_diff_1_2)\n",
        "\n",
        "\n",
        "print('Difference between binary representations of hashes is:\\n')\n",
        "print(np_diff)"
      ]
    }
  ],
  "metadata": {
    "colab": {
      "collapsed_sections": [],
      "name": "Blockchain.ipynb",
      "provenance": [],
      "authorship_tag": "ABX9TyNapcF9cew5c5Lp2bVJ4Iuo",
      "include_colab_link": true
    },
    "kernelspec": {
      "display_name": "Python 3",
      "name": "python3"
    },
    "language_info": {
      "name": "python"
    }
  },
  "nbformat": 4,
  "nbformat_minor": 0
}